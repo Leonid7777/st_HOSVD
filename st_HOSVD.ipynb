{
  "nbformat": 4,
  "nbformat_minor": 0,
  "metadata": {
    "colab": {
      "provenance": []
    },
    "kernelspec": {
      "name": "python3",
      "display_name": "Python 3"
    },
    "language_info": {
      "name": "python"
    }
  },
  "cells": [
    {
      "cell_type": "code",
      "source": [
        "import numpy as np\n",
        "from scipy import linalg as lg\n",
        "import time"
      ],
      "metadata": {
        "id": "vE8aFuJHcb8t"
      },
      "execution_count": 1,
      "outputs": []
    },
    {
      "cell_type": "code",
      "source": [
        "def use_rank(s, eps):\n",
        "    eps = eps**2\n",
        "    k = 1\n",
        "    spec = np.sum(s**2)\n",
        "    while k < s.shape[0] and np.sum(s[k:]**2) >= eps:\n",
        "        k = k + 1\n",
        "    return k, np.sqrt(np.sum(s[k:]**2))"
      ],
      "metadata": {
        "id": "L-sSY4H5t7NC"
      },
      "execution_count": 263,
      "outputs": []
    },
    {
      "cell_type": "code",
      "source": [
        "def st_HOSVD(T, eps, ranks=None):\n",
        "    factors = []\n",
        "    dims = list(T.shape)\n",
        "    d = len(dims)\n",
        "\n",
        "    for i in range(d):\n",
        "        permute = np.array([i])\n",
        "        permute = np.append(permute, np.arange(i))\n",
        "        permute = np.append(permute, np.arange(i+1, d))\n",
        "\n",
        "        T = np.transpose(T, permute)\n",
        "        T = T.reshape((dims[i], -1))\n",
        "\n",
        "        U, s, Vh = np.linalg.svd(T, full_matrices=False)\n",
        "\n",
        "        rank, m_eps = use_rank(s, eps / np.sqrt(d - i))\n",
        "        eps = np.sqrt(eps**2 - m_eps**2)\n",
        "\n",
        "        factors.append(U[:, :rank])\n",
        "\n",
        "        T = s[:rank].reshape((-1, 1)) * Vh[:rank, :]\n",
        "\n",
        "        dims[i] = rank\n",
        "\n",
        "        now_dim = np.array(dims[i]).astype(int)\n",
        "        now_dim = np.append(now_dim, np.array(dims[:i])).astype(int)\n",
        "        now_dim = np.append(now_dim, np.array(dims[i+1:])).astype(int)\n",
        "\n",
        "\n",
        "        T = T.reshape(now_dim)\n",
        "\n",
        "        permute = np.arange(1, i+1)\n",
        "        permute = np.append(permute, 0)\n",
        "        permute = np.append(permute, np.arange(i+1, d))\n",
        "\n",
        "        T = np.transpose(T, permute)\n",
        "\n",
        "    return T, factors, dims"
      ],
      "metadata": {
        "id": "aGPGq6Rlh1_G"
      },
      "execution_count": 278,
      "outputs": []
    },
    {
      "cell_type": "markdown",
      "source": [
        "# Cteate tensor"
      ],
      "metadata": {
        "id": "xN7nuWTchzJc"
      }
    },
    {
      "cell_type": "code",
      "execution_count": 279,
      "metadata": {
        "id": "bb0Y4VHycGGD"
      },
      "outputs": [],
      "source": [
        "sizes = np.array((10, 20, 30, 40))\n",
        "T = np.zeros(sizes)\n",
        "for i in range(sizes[0]):\n",
        "    for j in range(sizes[1]):\n",
        "        for k in range(sizes[2]):\n",
        "            for l in range(sizes[3]):\n",
        "                T[i, j, k, l] = np.sin(i * j * k * l)"
      ]
    },
    {
      "cell_type": "markdown",
      "source": [
        "# Run st-HOSVD"
      ],
      "metadata": {
        "id": "fJnXVnGQeDI7"
      }
    },
    {
      "cell_type": "code",
      "source": [
        "tensor, factors, ranks = st_HOSVD(T.copy(), eps=10**(-10), ranks=None)"
      ],
      "metadata": {
        "id": "PDty0_e7cg5r"
      },
      "execution_count": 280,
      "outputs": []
    },
    {
      "cell_type": "code",
      "source": [
        "ranks"
      ],
      "metadata": {
        "colab": {
          "base_uri": "https://localhost:8080/"
        },
        "id": "i2t3sxg-uqBj",
        "outputId": "200f7e0d-b6f4-4019-8b62-6c34ae91a09f"
      },
      "execution_count": 281,
      "outputs": [
        {
          "output_type": "execute_result",
          "data": {
            "text/plain": [
              "[9, 19, 29, 39]"
            ]
          },
          "metadata": {},
          "execution_count": 281
        }
      ]
    },
    {
      "cell_type": "code",
      "source": [
        "d = len(ranks)\n",
        "\n",
        "for i in range(d):\n",
        "    permute = np.array([i])\n",
        "    permute = np.append(permute, np.arange(i))\n",
        "    permute = np.append(permute, np.arange(i+1, d))\n",
        "\n",
        "    tensor = np.transpose(tensor, permute)\n",
        "    tensor = tensor.reshape((ranks[i], -1))\n",
        "\n",
        "    tensor = factors[i] @ tensor\n",
        "\n",
        "    ranks[i] = sizes[i]\n",
        "\n",
        "    now_dim = np.array(ranks[i]).astype(int)\n",
        "    now_dim = np.append(now_dim, np.array(ranks[:i])).astype(int)\n",
        "    now_dim = np.append(now_dim, np.array(ranks[i+1:])).astype(int)\n",
        "\n",
        "    tensor = tensor.reshape(now_dim)\n",
        "\n",
        "    permute = np.arange(1, i+1)\n",
        "    permute = np.append(permute, 0)\n",
        "    permute = np.append(permute, np.arange(i+1, d))\n",
        "\n",
        "    tensor = np.transpose(tensor, permute)"
      ],
      "metadata": {
        "id": "U71YIPLeoiTZ"
      },
      "execution_count": 282,
      "outputs": []
    },
    {
      "cell_type": "code",
      "source": [
        "print(np.linalg.norm((tensor - T).reshape(-1,)) / np.linalg.norm(T.reshape(-1,)))"
      ],
      "metadata": {
        "colab": {
          "base_uri": "https://localhost:8080/"
        },
        "id": "chjci4deqLJk",
        "outputId": "677ed9e1-22a2-4f0f-c1e7-32a8f89735d3"
      },
      "execution_count": 283,
      "outputs": [
        {
          "output_type": "stream",
          "name": "stdout",
          "text": [
            "3.3757365816872955e-15\n"
          ]
        }
      ]
    },
    {
      "cell_type": "code",
      "source": [],
      "metadata": {
        "id": "ncUDp2jnsjPR"
      },
      "execution_count": null,
      "outputs": []
    }
  ]
}